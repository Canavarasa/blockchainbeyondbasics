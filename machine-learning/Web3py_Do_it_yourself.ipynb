{
  "nbformat": 4,
  "nbformat_minor": 0,
  "metadata": {
    "colab": {
      "provenance": []
    },
    "kernelspec": {
      "name": "python3",
      "display_name": "Python 3"
    },
    "language_info": {
      "name": "python"
    }
  },
  "cells": [
    {
      "cell_type": "code",
      "execution_count": null,
      "metadata": {
        "id": "9GOTKGfo11vD"
      },
      "outputs": [],
      "source": [
        "#install the web3 package / library\n",
        "!pip install web3"
      ]
    },
    {
      "cell_type": "markdown",
      "source": [
        "# Get Balance from an account"
      ],
      "metadata": {
        "id": "jVgyELo-6VEK"
      }
    },
    {
      "cell_type": "code",
      "source": [
        "# standard python command to activate / import libraries in the code\n",
        "from web3 import Web3\n",
        "\n",
        "# Infura Goerli URL\n",
        "infura_url = 'https://goerli.infura.io/v3/efc1dbc478b14ee487e95525bc7fe847'\n",
        "\n",
        "# Instantiate a handler for Web3, using the infura URL\n",
        "web3 = Web3(Web3.HTTPProvider(infura_url))\n",
        "\n",
        "# A quick check for the connection\n",
        "print(\"Connection \", web3.isConnected())\n",
        "\n",
        "# Get the balance from the Metamask wallet ending in 3816\n",
        "balance = web3.eth.getBalance(\"0x702e9fC0Af5e1C090396fa7297bED614A7623816\")\n",
        "\n",
        "# Print the balance from the Metamask wallet\n",
        "print(web3.fromWei(balance, \"ether\"))"
      ],
      "metadata": {
        "colab": {
          "base_uri": "https://localhost:8080/"
        },
        "id": "B4GiEnZi53Fw",
        "outputId": "271b4972-f447-4f70-a28f-64681e8f253a"
      },
      "execution_count": null,
      "outputs": [
        {
          "output_type": "stream",
          "name": "stdout",
          "text": [
            "Connection  True\n",
            "1.343462573008751\n"
          ]
        }
      ]
    },
    {
      "cell_type": "markdown",
      "source": [
        "# Send an ether transaction"
      ],
      "metadata": {
        "id": "XwDrg-pS79K_"
      }
    },
    {
      "cell_type": "code",
      "source": [
        "#import the file includeconstants.py, that you created.\n",
        "\n",
        "import includeconstants as incl\n",
        "infura_url, privateKeyFromAccount = incl.getConstants()\n",
        "\n",
        "# Only printing the value to infura_url to do a check\n",
        "# You can also choose to print the value of privateKeyFromAccount, \n",
        "# to ensure the value is passed correctly. \n",
        "print(\"infura_url is: \",infura_url)\n"
      ],
      "metadata": {
        "colab": {
          "base_uri": "https://localhost:8080/"
        },
        "id": "tdViWJzfIOkP",
        "outputId": "b503360c-0097-4738-c380-d652799c4dd2"
      },
      "execution_count": null,
      "outputs": [
        {
          "output_type": "stream",
          "name": "stdout",
          "text": [
            "infura_url is:  https://goerli.infura.io/v3/efc1dbc478b14ee487e95525bc7fe847\n",
            "privateKeyFromAccount is:  ad431fc45fc89250b0fec18960631cad5103733ae4eac4580c7f525df63229bb\n"
          ]
        }
      ]
    },
    {
      "cell_type": "code",
      "source": [
        "# standard python command to activate / import libraries in the code\n",
        "from web3 import Web3\n",
        "\n",
        "# Instantiate a handler for Web3, using the infura URL\n",
        "web3 = Web3(Web3.HTTPProvider(infura_url))\n",
        "\n",
        "#Define two constants, one fromAccount and another toAccount\n",
        "fromAccount = '0x702e9fC0Af5e1C090396fa7297bED614A7623816' \n",
        "toAccount   = '0x630D38E1D5e30d798319DC82FAc592c45aBC3073'\n",
        "\n",
        "# Get the next nonce, which is nonce is the one up number for the fromAccount, \n",
        "# it starts from index 0. therefore logically the count of the transactions, \n",
        "# will be the next nonce for the FromAccount \n",
        "\n",
        "nextNonce = web3.eth.getTransactionCount(fromAccount)\n",
        "print(\"Nonce value for the FromAccount :\", nextNonce)\n",
        "\n",
        "#The following code will do three things \n",
        "#a- Create a transaction object\n",
        "#b- Sign the transaction \n",
        "#c- Send the transaction \n",
        "\n",
        "#Create a transaction object, define the data elements\n",
        "#Transferring 0.01 ether in the value section\n",
        "#The data field needs to be blank or missing.\n",
        "\n",
        "#Create a transaction object\n",
        "transactionObject = {\n",
        "    'nonce': web3.toHex(nextNonce),\n",
        "    'from': fromAccount,\n",
        "    'to':  toAccount,\n",
        "    'value':  web3.toHex(web3.toWei('0.01', 'ether')),\n",
        "    'gas': web3.toHex(26000),\n",
        "    'gasPrice': web3.toHex(web3.toWei('10', 'gwei')),\n",
        "}\n",
        "\n",
        "#This would end up creating a Signed transaction object using the private key\n",
        "#Sign the transaction\n",
        "signedTxObj = web3.eth.account.signTransaction(transactionObject, privateKeyFromAccount)\n",
        "\n",
        "#Send the raw transaction\n",
        "sentTx = web3.eth.sendRawTransaction(signedTxObj.rawTransaction)\n",
        "print(web3.toHex(sentTx))"
      ],
      "metadata": {
        "colab": {
          "base_uri": "https://localhost:8080/"
        },
        "id": "tkctI6NRJTYO",
        "outputId": "8615eb7a-488f-413f-9fe4-e30763d0c16c"
      },
      "execution_count": null,
      "outputs": [
        {
          "output_type": "stream",
          "name": "stdout",
          "text": [
            "Nonce value for the FromAccount : 30\n",
            "0x70263b9c7f6a408d2e155ac0a2ddbf940ab3def018ac22c03092129e6d237ddd\n"
          ]
        }
      ]
    },
    {
      "cell_type": "markdown",
      "source": [
        "# web3 - Deploy a Contract "
      ],
      "metadata": {
        "id": "EHUSF9EGn6c5"
      }
    },
    {
      "cell_type": "code",
      "source": [
        "#import the file includeconstants.py, that you created.\n",
        "import includeconstants as incl\n",
        "infura_url, privateKeyFromAccount, contractData, contractABI = incl.getConstants()\n",
        "\n",
        "# Printing the value to infura_url, contractData, contractABI  to do a check\n",
        "\n",
        "\n",
        "print(\"infura_url is: \",infura_url)\n",
        "print(\"contractData is: \",contractData)\n",
        "print(\"contractABI is: \",type(contractABI))"
      ],
      "metadata": {
        "colab": {
          "base_uri": "https://localhost:8080/"
        },
        "id": "P69lf83jpW3J",
        "outputId": "47442ad2-e6cf-4cfe-d60a-a33eccae0789"
      },
      "execution_count": null,
      "outputs": [
        {
          "output_type": "stream",
          "name": "stdout",
          "text": [
            "infura_url is:  https://goerli.infura.io/v3/efc1dbc478b14ee487e95525bc7fe847\n",
            "contractData is:  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\n",
            "contractABI is:  <class 'list'>\n"
          ]
        }
      ]
    },
    {
      "cell_type": "code",
      "source": [
        "# standard python command to activate / import libraries in the code\n",
        "from web3 import Web3\n",
        "import json \n",
        "\n",
        "# convert the contractABI variable into truly as json object type.\n",
        "contractABI = json.loads(json.dumps(contractABI))\n",
        "\n",
        "# Instantiate a handler for Web3, using the infura URL\n",
        "web3 = Web3(Web3.HTTPProvider(infura_url))\n",
        "\n",
        "#Define two constants, one fromAccount and another toAccount\n",
        "fromAccount = '0x702e9fC0Af5e1C090396fa7297bED614A7623816' \n",
        "toAccount   = '0x630D38E1D5e30d798319DC82FAc592c45aBC3073'\n",
        "\n",
        "# Get the next nonce, which is nonce is the one up number for the fromAccount, \n",
        "# it starts from index 0. therefore logically the count of the transactions, \n",
        "# will be the next nonce for the FromAccount \n",
        "\n",
        "nextNonce = web3.eth.getTransactionCount(fromAccount)\n",
        "print(\"Nonce value for the FromAccount :\", nextNonce)\n",
        "\n",
        "#The following code will do three things \n",
        "#a- Create a transaction object\n",
        "#b- Sign the transaction \n",
        "#c- Send the transaction \n",
        "\n",
        "#Create a transaction object, define the data elements\n",
        "#The data field is the contract data.\n",
        "\n",
        "#Create a transaction object\n",
        "transactionObject = {\n",
        "    'nonce': web3.toHex(nextNonce),\n",
        "    'from': fromAccount,\n",
        "    'gas': web3.toHex(2026000),\n",
        "    'gasPrice': web3.toHex(web3.toWei('10', 'gwei')),\n",
        "    'data': contractData\n",
        "\n",
        "}\n",
        "\n",
        "#This would end up creating a Signed transaction object using the private key\n",
        "#Sign the transaction\n",
        "signedTxObj = web3.eth.account.signTransaction(transactionObject, privateKeyFromAccount)\n",
        "\n",
        "#Send the transaction\n",
        "sentTx = web3.eth.sendRawTransaction(signedTxObj.rawTransaction)\n",
        "print(\"Transaction Hash is : \", web3.toHex(sentTx))\n",
        "\n",
        "# # Wait for the transaction to be mined, and get the transaction receipt\n",
        "tx_receipt = web3.eth.waitForTransactionReceipt(sentTx)\n",
        "\n",
        "print(\"Contract address is : \", tx_receipt.contractAddress)"
      ],
      "metadata": {
        "colab": {
          "base_uri": "https://localhost:8080/"
        },
        "id": "QmvdpkMpoLTK",
        "outputId": "80aeb5f4-dbd5-45a8-e8e7-f60dad4864f0"
      },
      "execution_count": null,
      "outputs": [
        {
          "output_type": "stream",
          "name": "stdout",
          "text": [
            "Nonce value for the FromAccount : 33\n",
            "Transaction Hash is :  0xac2d6ca6e96f133990a0bf4d1889077b65349009775faa63303435f753f89b15\n",
            "Contract address is :  0x8ACe4d54Ad70EdFDe8e759C4914bB67D4269CA8e\n"
          ]
        }
      ]
    },
    {
      "cell_type": "code",
      "source": [
        "#print the status of the transaction. 1 means success. \n",
        "print(\"status  is : \", tx_receipt.status)"
      ],
      "metadata": {
        "colab": {
          "base_uri": "https://localhost:8080/"
        },
        "id": "fgIwcdq0xqxA",
        "outputId": "6f9ec9c6-e442-49e3-d4cf-296a73b15248"
      },
      "execution_count": null,
      "outputs": [
        {
          "output_type": "stream",
          "name": "stdout",
          "text": [
            "status  is :  1\n"
          ]
        }
      ]
    },
    {
      "cell_type": "markdown",
      "source": [
        "# Writing a Contract / Executing a method in a contract "
      ],
      "metadata": {
        "id": "XgDwEn2V4wX7"
      }
    },
    {
      "cell_type": "code",
      "source": [
        "#import the file includeconstants.py, that you created.\n",
        "import includeconstants as incl\n",
        "infura_url, privateKeyFromAccount, contractData, contractABI = incl.getConstants()\n",
        "\n",
        "# Printing the value to infura_url, contractData, contractABI  to do a check\n",
        "\n",
        "print(\"infura_url is: \",infura_url)\n",
        "print(\"contractData is: \",contractData)\n",
        "print(\"contractABI is: \",contractABI)"
      ],
      "metadata": {
        "colab": {
          "base_uri": "https://localhost:8080/"
        },
        "id": "0N8Y2FAL4-YN",
        "outputId": "4fccc175-1497-4d8e-a988-28d33a88f73b"
      },
      "execution_count": null,
      "outputs": [
        {
          "output_type": "stream",
          "name": "stdout",
          "text": [
            "infura_url is:  https://goerli.infura.io/v3/efc1dbc478b14ee487e95525bc7fe847\n",
            "contractData is:  0x60a060405234801561001057600080fd5b503373ffffffffffffffffffffffffffffffffffffffff1660808173ffffffffffffffffffffffffffffffffffffffff1660601b8152505060805160601c610b0f61006d6000396000818161038f01526104410152610b0f6000f3fe6080604052600436106100745760003560e01c80637d16de941161004e5780637d16de94146101b0578063901ac4f3146101d95780639334efa014610204578063ef20b9fa1461020e576100cf565b80630f2af22e1461011d5780635a63fbc91461015a5780637867d9c114610185576100cf565b366100cf5761008161024b565b6040518060400160405280601081526020017f526563656976652046756e6374696f6e00000000000000000000000000000000815250600290805190602001906100cc92919061059e565b50005b6040518060400160405280601181526020017f46616c6c6261636b2046756e6374696f6e0000000000000000000000000000008152506002908051906020019061011a92919061059e565b50005b34801561012957600080fd5b50610144600480360381019061013f919061067c565b61034e565b60405161015191906106ea565b60405180910390f35b34801561016657600080fd5b5061016f61038d565b60405161017c91906106ea565b60405180910390f35b34801561019157600080fd5b5061019a6103b1565b6040516101a7919061079e565b60405180910390f35b3480156101bc57600080fd5b506101d760048036038101906101d2919061067c565b61043f565b005b3480156101e557600080fd5b506101ee61057d565b6040516101fb91906107cf565b60405180910390f35b61020c61024b565b005b34801561021a57600080fd5b5061023560048036038101906102309190610816565b610586565b60405161024291906107cf565b60405180910390f35b64174876e800341015610293576040517f08c379a000000000000000000000000000000000000000000000000000000000815260040161028a9061088f565b60405180910390fd5b6000339080600181540180825580915050600190039060005260206000200160009091909190916101000a81548173ffffffffffffffffffffffffffffffffffffffff021916908373ffffffffffffffffffffffffffffffffffffffff16021790555034600160003373ffffffffffffffffffffffffffffffffffffffff1673ffffffffffffffffffffffffffffffffffffffff168152602001908152602001600020600082825461034591906108de565b92505081905550565b6000818154811061035e57600080fd5b906000526020600020016000915054906101000a900473ffffffffffffffffffffffffffffffffffffffff1681565b7f000000000000000000000000000000000000000000000000000000000000000081565b600280546103be90610963565b80601f01602080910402602001604051908101604052809291908181526020018280546103ea90610963565b80156104375780601f1061040c57610100808354040283529160200191610437565b820191906000526020600020905b81548152906001019060200180831161041a57829003601f168201915b505050505081565b7f000000000000000000000000000000000000000000000000000000000000000073ffffffffffffffffffffffffffffffffffffffff163373ffffffffffffffffffffffffffffffffffffffff16146104cd576040517f08c379a00000000000000000000000000000000000000000000000000000000081526004016104c490610a07565b60405180910390fd5b60003373ffffffffffffffffffffffffffffffffffffffff16826040516104f390610a58565b60006040518083038185875af1925050503d8060008114610530576040519150601f19603f3d011682016040523d82523d6000602084013e610535565b606091505b5050905080610579576040517f08c379a000000000000000000000000000000000000000000000000000000000815260040161057090610ab9565b60405180910390fd5b5050565b64174876e80081565b60016020528060005260406000206000915090505481565b8280546105aa90610963565b90600052602060002090601f0160209004810192826105cc5760008555610613565b82601f106105e557805160ff1916838001178555610613565b82800160010185558215610613579182015b828111156106125782518255916020019190600101906105f7565b5b5090506106209190610624565b5090565b5b8082111561063d576000816000905550600101610625565b5090565b600080fd5b6000819050919050565b61065981610646565b811461066457600080fd5b50565b60008135905061067681610650565b92915050565b60006020828403121561069257610691610641565b5b60006106a084828501610667565b91505092915050565b600073ffffffffffffffffffffffffffffffffffffffff82169050919050565b60006106d4826106a9565b9050919050565b6106e4816106c9565b82525050565b60006020820190506106ff60008301846106db565b92915050565b600081519050919050565b600082825260208201905092915050565b60005b8381101561073f578082015181840152602081019050610724565b8381111561074e576000848401525b50505050565b6000601f19601f8301169050919050565b600061077082610705565b61077a8185610710565b935061078a818560208601610721565b61079381610754565b840191505092915050565b600060208201905081810360008301526107b88184610765565b905092915050565b6107c981610646565b82525050565b60006020820190506107e460008301846107c0565b92915050565b6107f3816106c9565b81146107fe57600080fd5b50565b600081359050610810816107ea565b92915050565b60006020828403121561082c5761082b610641565b5b600061083a84828501610801565b91505092915050565b7f4572726f72202d20636865636b20636f6e646974696f6e000000000000000000600082015250565b6000610879601783610710565b915061088482610843565b602082019050919050565b600060208201905081810360008301526108a88161086c565b9050919050565b7f4e487b7100000000000000000000000000000000000000000000000000000000600052601160045260246000fd5b60006108e982610646565b91506108f483610646565b9250827fffffffffffffffffffffffffffffffffffffffffffffffffffffffffffffffff03821115610929576109286108af565b5b828201905092915050565b7f4e487b7100000000000000000000000000000000000000000000000000000000600052602260045260246000fd5b6000600282049050600182168061097b57607f821691505b6020821081141561098f5761098e610934565b5b50919050565b7f4163636573732044656e696564202d206e6f7420616c6c6f77656420746f205760008201527f6974686472617700000000000000000000000000000000000000000000000000602082015250565b60006109f1602783610710565b91506109fc82610995565b604082019050919050565b60006020820190508181036000830152610a20816109e4565b9050919050565b600081905092915050565b50565b6000610a42600083610a27565b9150610a4d82610a32565b600082019050919050565b6000610a6382610a35565b9150819050919050565b7f4d792043616c6c206661696c6564000000000000000000000000000000000000600082015250565b6000610aa3600e83610710565b9150610aae82610a6d565b602082019050919050565b60006020820190508181036000830152610ad281610a96565b905091905056fea264697066735822122043d092eb4b624814c0240697a5e777d159557a741887c91e695f0b3206bd6a1e64736f6c63430008080033\n",
            "contractABI is:  [{'inputs': [], 'stateMutability': 'nonpayable', 'type': 'constructor'}, {'stateMutability': 'payable', 'type': 'fallback'}, {'inputs': [], 'name': 'ContractOwner', 'outputs': [{'internalType': 'address', 'name': '', 'type': 'address'}], 'stateMutability': 'view', 'type': 'function'}, {'inputs': [{'internalType': 'address', 'name': '', 'type': 'address'}], 'name': 'FromAddrAmtMap', 'outputs': [{'internalType': 'uint256', 'name': '', 'type': 'uint256'}], 'stateMutability': 'view', 'type': 'function'}, {'inputs': [{'internalType': 'uint256', 'name': '', 'type': 'uint256'}], 'name': 'FromAddressList', 'outputs': [{'internalType': 'address', 'name': '', 'type': 'address'}], 'stateMutability': 'view', 'type': 'function'}, {'inputs': [], 'name': 'LastRun', 'outputs': [{'internalType': 'string', 'name': '', 'type': 'string'}], 'stateMutability': 'view', 'type': 'function'}, {'inputs': [], 'name': 'MinEth', 'outputs': [{'internalType': 'uint256', 'name': '', 'type': 'uint256'}], 'stateMutability': 'view', 'type': 'function'}, {'inputs': [], 'name': 'depositCrypto', 'outputs': [], 'stateMutability': 'payable', 'type': 'function'}, {'inputs': [{'internalType': 'uint256', 'name': '_CryptoAmount', 'type': 'uint256'}], 'name': 'withdrawCrypto', 'outputs': [], 'stateMutability': 'nonpayable', 'type': 'function'}, {'stateMutability': 'payable', 'type': 'receive'}]\n"
          ]
        }
      ]
    },
    {
      "cell_type": "code",
      "source": [
        "# standard python command to activate / import libraries in the code\n",
        "from web3 import Web3\n",
        "import json \n",
        "\n",
        "# convert the contractABI variable into truly as json object type.\n",
        "contractABI = json.loads(json.dumps(contractABI))\n",
        "\n",
        "# Instantiate a handler for Web3, using the infura URL\n",
        "web3 = Web3(Web3.HTTPProvider(infura_url))\n",
        "\n",
        "#Define two constants, one fromAccount and another toAccount\n",
        "fromAccount = '0x702e9fC0Af5e1C090396fa7297bED614A7623816' \n",
        "toAccount   = '0x630D38E1D5e30d798319DC82FAc592c45aBC3073'\n",
        "\n",
        "# Get the next nonce, which is nonce is the one up number for the fromAccount, \n",
        "# it starts from index 0. therefore logically the count of the transactions, \n",
        "# will be the next nonce for the FromAccount \n",
        "\n",
        "nextNonce = web3.eth.getTransactionCount(fromAccount)\n",
        "print(\"Nonce value for the FromAccount :\", nextNonce)\n",
        "\n",
        "#Get the contract address from the previous section\n",
        "#This is the contract address from the previous section. \n",
        "contractAddr = '0x8ACe4d54Ad70EdFDe8e759C4914bB67D4269CA8e'\n",
        "contractHandler = web3.eth.contract(address=contractAddr, abi=contractABI)\n",
        "\n",
        "#The following code will do three things \n",
        "#a- Create a transaction object\n",
        "#b- Sign the transaction \n",
        "#c- Send the transaction \n",
        "\n",
        "#Create a transaction object, define the data elements\n",
        "#The buildTransaction object functions is going to execute depositCrypto() function\n",
        "#from the smart contract that deployed. \n",
        "#Create a transaction object\n",
        "\n",
        "transactionObject = contractHandler.functions.depositCrypto().buildTransaction({\n",
        "    'nonce': web3.toHex(nextNonce),\n",
        "    'from': fromAccount,\n",
        "    'value':  web3.toHex(web3.toWei('0.02', 'ether')),\n",
        "    'gas': web3.toHex(156000),\n",
        "    'gasPrice': web3.toHex(web3.toWei('10', 'gwei')),\n",
        "})\n",
        "\n",
        "\n",
        "#This would end up creating a Signed transaction object using the private key\n",
        "#Sign the transaction\n",
        "signedTxObj = web3.eth.account.signTransaction(transactionObject, privateKeyFromAccount)\n",
        "\n",
        "#Send the transaction\n",
        "sentTx = web3.eth.sendRawTransaction(signedTxObj.rawTransaction)\n",
        "print(\"Transaction Hash is : \", web3.toHex(sentTx))\n",
        "\n",
        "# # Wait for the transaction to be mined, and get the transaction receipt\n",
        "tx_receipt = web3.eth.waitForTransactionReceipt(sentTx)\n",
        "\n",
        "print(\"Status is : \", tx_receipt.status)"
      ],
      "metadata": {
        "colab": {
          "base_uri": "https://localhost:8080/"
        },
        "id": "Jw4l-t3642xE",
        "outputId": "d6b963e0-8229-491c-cbc4-ed7e0fd46c17"
      },
      "execution_count": null,
      "outputs": [
        {
          "output_type": "stream",
          "name": "stdout",
          "text": [
            "Nonce value for the FromAccount : 35\n",
            "Transaction Hash is :  0x62347140affd0876e22dbe04c7d228d51957ccaea532a167cc83c2206cecdb8a\n",
            "Status is :  1\n"
          ]
        }
      ]
    },
    {
      "cell_type": "markdown",
      "source": [
        "# Listening to contract events"
      ],
      "metadata": {
        "id": "zzjf7aQuEegx"
      }
    },
    {
      "cell_type": "code",
      "source": [
        "#import the file includeconstants.py, that you created.\n",
        "import includeconstants as incl\n",
        "infura_url, privateKeyFromAccount, contractData, contractABI = incl.getConstants()\n",
        "\n",
        "# Printing the value to infura_url, contractData, contractABI  to do a check\n",
        "\n",
        "\n",
        "print(\"infura_url is: \",infura_url)\n",
        "print(\"contractData is: \",contractData)\n",
        "print(\"contractABI is: \",type(contractABI))"
      ],
      "metadata": {
        "colab": {
          "base_uri": "https://localhost:8080/"
        },
        "id": "oaweUD3MEqjQ",
        "outputId": "8b90c494-acdf-44b1-ff99-e5e96662ef11"
      },
      "execution_count": null,
      "outputs": [
        {
          "output_type": "stream",
          "name": "stdout",
          "text": [
            "infura_url is:  https://goerli.infura.io/v3/efc1dbc478b14ee487e95525bc7fe847\n",
            "contractData is:  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\n",
            "contractABI is:  [{'inputs': [], 'stateMutability': 'nonpayable', 'type': 'constructor'}, {'stateMutability': 'payable', 'type': 'fallback'}, {'inputs': [], 'name': 'ContractOwner', 'outputs': [{'internalType': 'address', 'name': '', 'type': 'address'}], 'stateMutability': 'view', 'type': 'function'}, {'inputs': [{'internalType': 'address', 'name': '', 'type': 'address'}], 'name': 'FromAddrAmtMap', 'outputs': [{'internalType': 'uint256', 'name': '', 'type': 'uint256'}], 'stateMutability': 'view', 'type': 'function'}, {'inputs': [{'internalType': 'uint256', 'name': '', 'type': 'uint256'}], 'name': 'FromAddressList', 'outputs': [{'internalType': 'address', 'name': '', 'type': 'address'}], 'stateMutability': 'view', 'type': 'function'}, {'inputs': [], 'name': 'LastRun', 'outputs': [{'internalType': 'string', 'name': '', 'type': 'string'}], 'stateMutability': 'view', 'type': 'function'}, {'inputs': [], 'name': 'MinEth', 'outputs': [{'internalType': 'uint256', 'name': '', 'type': 'uint256'}], 'stateMutability': 'view', 'type': 'function'}, {'inputs': [], 'name': 'depositCrypto', 'outputs': [], 'stateMutability': 'payable', 'type': 'function'}, {'inputs': [{'internalType': 'uint256', 'name': '_CryptoAmount', 'type': 'uint256'}], 'name': 'withdrawCrypto', 'outputs': [], 'stateMutability': 'nonpayable', 'type': 'function'}, {'stateMutability': 'payable', 'type': 'receive'}]\n"
          ]
        }
      ]
    },
    {
      "cell_type": "code",
      "source": [
        "# standard python command to activate / import libraries in the code\n",
        "from web3 import Web3\n",
        "\n",
        "# Instantiate a handler for Web3, using the infura URL\n",
        "web3 = Web3(Web3.HTTPProvider(infura_url))\n",
        "\n",
        "#Get the contract address of a random token - FLUX TOKEN\n",
        "contractAddr = '0x1f89b5e1D2eD5591d6FE0c0e5FcA756Afc1B5C31' #FLUX TOKEN\n",
        "\n",
        "#The folling code creates a filter to get all the transactions for the Flux token\n",
        "#Staring with the fromBlock, ending in the toBlock\n",
        "filter = web3.eth.filter({\n",
        "    \"fromBlock\": 7231635,\n",
        "    \"toBlock\": \"latest\",\n",
        "    \"address\": contractAddr,\n",
        "\n",
        "})\n",
        "\n",
        "#The following code gets the details on all the entries on the contract.\n",
        "filter.get_all_entries()"
      ],
      "metadata": {
        "colab": {
          "base_uri": "https://localhost:8080/"
        },
        "id": "HVbMLO_LEddJ",
        "outputId": "29290515-b298-4167-8894-6c4601ab3df7"
      },
      "execution_count": null,
      "outputs": [
        {
          "output_type": "execute_result",
          "data": {
            "text/plain": [
              "[AttributeDict({'address': '0x1f89b5e1D2eD5591d6FE0c0e5FcA756Afc1B5C31',\n",
              "  'blockHash': HexBytes('0xac85c14535bf4bbc94138e8f2162dc7aedb23eeac557d49fe21722a0710cedd1'),\n",
              "  'blockNumber': 7231635,\n",
              "  'data': '0x00000000000000000000000000000000000000000000003635c9adc5dea00000',\n",
              "  'logIndex': 3,\n",
              "  'removed': False,\n",
              "  'topics': [HexBytes('0xddf252ad1be2c89b69c2b068fc378daa952ba7f163c4a11628f55a4df523b3ef'),\n",
              "   HexBytes('0x0000000000000000000000000000000000000000000000000000000000000000'),\n",
              "   HexBytes('0x0000000000000000000000001821821d8c03990901bdfe1756c5665ec6667095')],\n",
              "  'transactionHash': HexBytes('0xf8fc5a17b18c069a26e1166998014924bb02a7e74b9eaec53dcbebce9628447b'),\n",
              "  'transactionIndex': 3}),\n",
              " AttributeDict({'address': '0x1f89b5e1D2eD5591d6FE0c0e5FcA756Afc1B5C31',\n",
              "  'blockHash': HexBytes('0xac85c14535bf4bbc94138e8f2162dc7aedb23eeac557d49fe21722a0710cedd1'),\n",
              "  'blockNumber': 7231635,\n",
              "  'data': '0x0000000000000000000000001821821d8c03990901bdfe1756c5665ec666709500000000000000000000000000000000000000000000003635c9adc5dea00000',\n",
              "  'logIndex': 4,\n",
              "  'removed': False,\n",
              "  'topics': [HexBytes('0x0f6798a560793a54c3bcfe86a93cde1e73087d944c0ea20544137d4121396885')],\n",
              "  'transactionHash': HexBytes('0xf8fc5a17b18c069a26e1166998014924bb02a7e74b9eaec53dcbebce9628447b'),\n",
              "  'transactionIndex': 3}),\n",
              " AttributeDict({'address': '0x1f89b5e1D2eD5591d6FE0c0e5FcA756Afc1B5C31',\n",
              "  'blockHash': HexBytes('0xfd52a44d2464a3ad59bf33b04d45d7951a35998a117ed4202e06940410a77c87'),\n",
              "  'blockNumber': 7234445,\n",
              "  'data': '0x0000000000000000000000000000000000000000000004b4a8335ecc4a780000',\n",
              "  'logIndex': 17,\n",
              "  'removed': False,\n",
              "  'topics': [HexBytes('0x8c5be1e5ebec7d5bd14f71427d1e84f3dd0314c0f7b2291e5b200ac8c7c3b925'),\n",
              "   HexBytes('0x00000000000000000000000048aed3dd0050fd2d385077ac9139beb6a442bc35'),\n",
              "   HexBytes('0x0000000000000000000000003477ab4124f2793bf580f99f54ad0c93277d43b4')],\n",
              "  'transactionHash': HexBytes('0x44012527f7c8fead6c9d1e94cfc15f377acff9952b39c5f4470f401fef17b72c'),\n",
              "  'transactionIndex': 4}),\n",
              " AttributeDict({'address': '0x1f89b5e1D2eD5591d6FE0c0e5FcA756Afc1B5C31',\n",
              "  'blockHash': HexBytes('0x0a15b07ecf796292167b786dbf6590f8140a2c5a841baa4f85eae35eb637d7b7'),\n",
              "  'blockNumber': 7234449,\n",
              "  'data': '0x0000000000000000000000000000000000000000000000000000000000000000',\n",
              "  'logIndex': 4,\n",
              "  'removed': False,\n",
              "  'topics': [HexBytes('0x8c5be1e5ebec7d5bd14f71427d1e84f3dd0314c0f7b2291e5b200ac8c7c3b925'),\n",
              "   HexBytes('0x00000000000000000000000048aed3dd0050fd2d385077ac9139beb6a442bc35'),\n",
              "   HexBytes('0x0000000000000000000000003477ab4124f2793bf580f99f54ad0c93277d43b4')],\n",
              "  'transactionHash': HexBytes('0x791808959a5f0926fb9e122d57dc399e23cbecc9502bd0c3a460b53298cb4c63'),\n",
              "  'transactionIndex': 2}),\n",
              " AttributeDict({'address': '0x1f89b5e1D2eD5591d6FE0c0e5FcA756Afc1B5C31',\n",
              "  'blockHash': HexBytes('0x0a15b07ecf796292167b786dbf6590f8140a2c5a841baa4f85eae35eb637d7b7'),\n",
              "  'blockNumber': 7234449,\n",
              "  'data': '0x0000000000000000000000000000000000000000000004b4a8335ecc4a780000',\n",
              "  'logIndex': 5,\n",
              "  'removed': False,\n",
              "  'topics': [HexBytes('0xddf252ad1be2c89b69c2b068fc378daa952ba7f163c4a11628f55a4df523b3ef'),\n",
              "   HexBytes('0x00000000000000000000000048aed3dd0050fd2d385077ac9139beb6a442bc35'),\n",
              "   HexBytes('0x0000000000000000000000003477ab4124f2793bf580f99f54ad0c93277d43b4')],\n",
              "  'transactionHash': HexBytes('0x791808959a5f0926fb9e122d57dc399e23cbecc9502bd0c3a460b53298cb4c63'),\n",
              "  'transactionIndex': 2}),\n",
              " AttributeDict({'address': '0x1f89b5e1D2eD5591d6FE0c0e5FcA756Afc1B5C31',\n",
              "  'blockHash': HexBytes('0x86838aaffc291c3ae70a0e2c4e2d247c0f9714e0c90f12f859bb61c9c2bb8350'),\n",
              "  'blockNumber': 7245398,\n",
              "  'data': '0x0000000000000000000000000000000000000000000000056bc75e2d63100000',\n",
              "  'logIndex': 0,\n",
              "  'removed': False,\n",
              "  'topics': [HexBytes('0xddf252ad1be2c89b69c2b068fc378daa952ba7f163c4a11628f55a4df523b3ef'),\n",
              "   HexBytes('0x0000000000000000000000000000000000000000000000000000000000000000'),\n",
              "   HexBytes('0x000000000000000000000000d65fa3bab4f988ae47b9a3c8a91231b40d27cb2d')],\n",
              "  'transactionHash': HexBytes('0xa52bad4fbb8975973ac9d88a4c38dc334d3fa90d9fdfaec185d7a400c1fe2ccd'),\n",
              "  'transactionIndex': 3}),\n",
              " AttributeDict({'address': '0x1f89b5e1D2eD5591d6FE0c0e5FcA756Afc1B5C31',\n",
              "  'blockHash': HexBytes('0x86838aaffc291c3ae70a0e2c4e2d247c0f9714e0c90f12f859bb61c9c2bb8350'),\n",
              "  'blockNumber': 7245398,\n",
              "  'data': '0x000000000000000000000000d65fa3bab4f988ae47b9a3c8a91231b40d27cb2d0000000000000000000000000000000000000000000000056bc75e2d63100000',\n",
              "  'logIndex': 1,\n",
              "  'removed': False,\n",
              "  'topics': [HexBytes('0x0f6798a560793a54c3bcfe86a93cde1e73087d944c0ea20544137d4121396885')],\n",
              "  'transactionHash': HexBytes('0xa52bad4fbb8975973ac9d88a4c38dc334d3fa90d9fdfaec185d7a400c1fe2ccd'),\n",
              "  'transactionIndex': 3}),\n",
              " AttributeDict({'address': '0x1f89b5e1D2eD5591d6FE0c0e5FcA756Afc1B5C31',\n",
              "  'blockHash': HexBytes('0x9000c444efbc876d0681975f93347cb14f94805ad75310d5bf066aae92bcdbd1'),\n",
              "  'blockNumber': 7252337,\n",
              "  'data': '0x00000000000000000000000000000000000000000000152d02c7e14af6800000',\n",
              "  'logIndex': 13,\n",
              "  'removed': False,\n",
              "  'topics': [HexBytes('0xddf252ad1be2c89b69c2b068fc378daa952ba7f163c4a11628f55a4df523b3ef'),\n",
              "   HexBytes('0x0000000000000000000000000000000000000000000000000000000000000000'),\n",
              "   HexBytes('0x000000000000000000000000b8ac41200c36f97131a51827eff9b44fbad8db8a')],\n",
              "  'transactionHash': HexBytes('0x10fdb0a823cb9200e9f281eb3eb4c2e417b34ba230c31cba0ed0114cfd135da6'),\n",
              "  'transactionIndex': 19}),\n",
              " AttributeDict({'address': '0x1f89b5e1D2eD5591d6FE0c0e5FcA756Afc1B5C31',\n",
              "  'blockHash': HexBytes('0x9000c444efbc876d0681975f93347cb14f94805ad75310d5bf066aae92bcdbd1'),\n",
              "  'blockNumber': 7252337,\n",
              "  'data': '0x000000000000000000000000b8ac41200c36f97131a51827eff9b44fbad8db8a00000000000000000000000000000000000000000000152d02c7e14af6800000',\n",
              "  'logIndex': 14,\n",
              "  'removed': False,\n",
              "  'topics': [HexBytes('0x0f6798a560793a54c3bcfe86a93cde1e73087d944c0ea20544137d4121396885')],\n",
              "  'transactionHash': HexBytes('0x10fdb0a823cb9200e9f281eb3eb4c2e417b34ba230c31cba0ed0114cfd135da6'),\n",
              "  'transactionIndex': 19}),\n",
              " AttributeDict({'address': '0x1f89b5e1D2eD5591d6FE0c0e5FcA756Afc1B5C31',\n",
              "  'blockHash': HexBytes('0x0dd488695df30e2b1977bf9f5664b870c39dee0c4193f31f16f4724c6b9f5564'),\n",
              "  'blockNumber': 7268989,\n",
              "  'data': '0x000000000000000000000000000000000000000000000a968163f0a57b400000',\n",
              "  'logIndex': 0,\n",
              "  'removed': False,\n",
              "  'topics': [HexBytes('0xddf252ad1be2c89b69c2b068fc378daa952ba7f163c4a11628f55a4df523b3ef'),\n",
              "   HexBytes('0x0000000000000000000000000000000000000000000000000000000000000000'),\n",
              "   HexBytes('0x0000000000000000000000002a839dafa1068a2418a8ffbea6ca07cba5165a37')],\n",
              "  'transactionHash': HexBytes('0x7752978c2ce6f2f1c5cd7ac01b9239fef38c19c8fa414e4e7cfbaec36dda73b4'),\n",
              "  'transactionIndex': 2}),\n",
              " AttributeDict({'address': '0x1f89b5e1D2eD5591d6FE0c0e5FcA756Afc1B5C31',\n",
              "  'blockHash': HexBytes('0x0dd488695df30e2b1977bf9f5664b870c39dee0c4193f31f16f4724c6b9f5564'),\n",
              "  'blockNumber': 7268989,\n",
              "  'data': '0x0000000000000000000000002a839dafa1068a2418a8ffbea6ca07cba5165a37000000000000000000000000000000000000000000000a968163f0a57b400000',\n",
              "  'logIndex': 1,\n",
              "  'removed': False,\n",
              "  'topics': [HexBytes('0x0f6798a560793a54c3bcfe86a93cde1e73087d944c0ea20544137d4121396885')],\n",
              "  'transactionHash': HexBytes('0x7752978c2ce6f2f1c5cd7ac01b9239fef38c19c8fa414e4e7cfbaec36dda73b4'),\n",
              "  'transactionIndex': 2}),\n",
              " AttributeDict({'address': '0x1f89b5e1D2eD5591d6FE0c0e5FcA756Afc1B5C31',\n",
              "  'blockHash': HexBytes('0xafc207a10b61bef2930a5e7b5170a0dcf6095db749dd7f72647888869667dde7'),\n",
              "  'blockNumber': 7269050,\n",
              "  'data': '0x000000000000000000000000000000000000000000000a968163f0a57b400000',\n",
              "  'logIndex': 3,\n",
              "  'removed': False,\n",
              "  'topics': [HexBytes('0xddf252ad1be2c89b69c2b068fc378daa952ba7f163c4a11628f55a4df523b3ef'),\n",
              "   HexBytes('0x0000000000000000000000000000000000000000000000000000000000000000'),\n",
              "   HexBytes('0x00000000000000000000000012b4b245447ee8a2a7e7734fca6dca68778898bd')],\n",
              "  'transactionHash': HexBytes('0x7191783a25528622f159a912b0703208133c3b6f98b6254f64d6919a8efdcbd9'),\n",
              "  'transactionIndex': 4}),\n",
              " AttributeDict({'address': '0x1f89b5e1D2eD5591d6FE0c0e5FcA756Afc1B5C31',\n",
              "  'blockHash': HexBytes('0xafc207a10b61bef2930a5e7b5170a0dcf6095db749dd7f72647888869667dde7'),\n",
              "  'blockNumber': 7269050,\n",
              "  'data': '0x00000000000000000000000012b4b245447ee8a2a7e7734fca6dca68778898bd000000000000000000000000000000000000000000000a968163f0a57b400000',\n",
              "  'logIndex': 4,\n",
              "  'removed': False,\n",
              "  'topics': [HexBytes('0x0f6798a560793a54c3bcfe86a93cde1e73087d944c0ea20544137d4121396885')],\n",
              "  'transactionHash': HexBytes('0x7191783a25528622f159a912b0703208133c3b6f98b6254f64d6919a8efdcbd9'),\n",
              "  'transactionIndex': 4}),\n",
              " AttributeDict({'address': '0x1f89b5e1D2eD5591d6FE0c0e5FcA756Afc1B5C31',\n",
              "  'blockHash': HexBytes('0xacd6c052eb8fef77cfd7b5d9d5a47574d9a60645528e6a2ae778ef94039c4600'),\n",
              "  'blockNumber': 7269058,\n",
              "  'data': '0x0000000000000000000000000000000000000000000000000000000000000000',\n",
              "  'logIndex': 4,\n",
              "  'removed': False,\n",
              "  'topics': [HexBytes('0xddf252ad1be2c89b69c2b068fc378daa952ba7f163c4a11628f55a4df523b3ef'),\n",
              "   HexBytes('0x00000000000000000000000012b4b245447ee8a2a7e7734fca6dca68778898bd'),\n",
              "   HexBytes('0x0000000000000000000000006730b9a6f05ccdcd6144a5e6dce377343eb339b1')],\n",
              "  'transactionHash': HexBytes('0x90356fa7b3e77c390b9ee4f7f304400cd5926924708975be09cbf3f046af7ce5'),\n",
              "  'transactionIndex': 5}),\n",
              " AttributeDict({'address': '0x1f89b5e1D2eD5591d6FE0c0e5FcA756Afc1B5C31',\n",
              "  'blockHash': HexBytes('0xbf4f0f96ffbc351008c3521087db053048641021313a3add8275f3e4b13a8fe7'),\n",
              "  'blockNumber': 7303843,\n",
              "  'data': '0x00000000000000000000000000000000000000000000152d02c7e14af6800000',\n",
              "  'logIndex': 76,\n",
              "  'removed': False,\n",
              "  'topics': [HexBytes('0xddf252ad1be2c89b69c2b068fc378daa952ba7f163c4a11628f55a4df523b3ef'),\n",
              "   HexBytes('0x0000000000000000000000000000000000000000000000000000000000000000'),\n",
              "   HexBytes('0x000000000000000000000000d238b9d8b64cdb3de3abd29cebfd4924dd24d1b4')],\n",
              "  'transactionHash': HexBytes('0xbc831b7e556d0e68cdb09a8caac03a705c720befbf5de9283004e6505563956b'),\n",
              "  'transactionIndex': 30}),\n",
              " AttributeDict({'address': '0x1f89b5e1D2eD5591d6FE0c0e5FcA756Afc1B5C31',\n",
              "  'blockHash': HexBytes('0xbf4f0f96ffbc351008c3521087db053048641021313a3add8275f3e4b13a8fe7'),\n",
              "  'blockNumber': 7303843,\n",
              "  'data': '0x000000000000000000000000d238b9d8b64cdb3de3abd29cebfd4924dd24d1b400000000000000000000000000000000000000000000152d02c7e14af6800000',\n",
              "  'logIndex': 77,\n",
              "  'removed': False,\n",
              "  'topics': [HexBytes('0x0f6798a560793a54c3bcfe86a93cde1e73087d944c0ea20544137d4121396885')],\n",
              "  'transactionHash': HexBytes('0xbc831b7e556d0e68cdb09a8caac03a705c720befbf5de9283004e6505563956b'),\n",
              "  'transactionIndex': 30}),\n",
              " AttributeDict({'address': '0x1f89b5e1D2eD5591d6FE0c0e5FcA756Afc1B5C31',\n",
              "  'blockHash': HexBytes('0xe5e3d3e766980f30ad8bd009f4d521b0cb3762951feab9557dfa3e68bf05c47d'),\n",
              "  'blockNumber': 7303847,\n",
              "  'data': '0x00000000000000000000000000000000000000000000152d02c7e14af6800000',\n",
              "  'logIndex': 94,\n",
              "  'removed': False,\n",
              "  'topics': [HexBytes('0xddf252ad1be2c89b69c2b068fc378daa952ba7f163c4a11628f55a4df523b3ef'),\n",
              "   HexBytes('0x000000000000000000000000d238b9d8b64cdb3de3abd29cebfd4924dd24d1b4'),\n",
              "   HexBytes('0x000000000000000000000000b8ac41200c36f97131a51827eff9b44fbad8db8a')],\n",
              "  'transactionHash': HexBytes('0x4813c89e623375501225a48e550a7f663f17113bc379f128af12194ebfaf04a5'),\n",
              "  'transactionIndex': 42}),\n",
              " AttributeDict({'address': '0x1f89b5e1D2eD5591d6FE0c0e5FcA756Afc1B5C31',\n",
              "  'blockHash': HexBytes('0x2de0ee83717a023714341ef3c635880d3982660c31dd97f52716459100db0384'),\n",
              "  'blockNumber': 7303968,\n",
              "  'data': '0x0000000000000000000000000000000000000000000000000000000000000000',\n",
              "  'logIndex': 37,\n",
              "  'removed': False,\n",
              "  'topics': [HexBytes('0xddf252ad1be2c89b69c2b068fc378daa952ba7f163c4a11628f55a4df523b3ef'),\n",
              "   HexBytes('0x00000000000000000000000043e1f24c0daae53de3966064d06f9364c67cd814'),\n",
              "   HexBytes('0x000000000000000000000000b8ac41200c36f97131a51827eff9b44fbad8db8a')],\n",
              "  'transactionHash': HexBytes('0x7b0f030dd852e18da1cc0242e1bb1737a3d168a97058cb6cc106aac12a8cbd97'),\n",
              "  'transactionIndex': 31})]"
            ]
          },
          "metadata": {},
          "execution_count": 23
        }
      ]
    }
  ]
}